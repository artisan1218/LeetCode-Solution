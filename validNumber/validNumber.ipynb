{
 "cells": [
  {
   "cell_type": "code",
   "execution_count": 15,
   "metadata": {},
   "outputs": [
    {
     "name": "stdout",
     "output_type": "stream",
     "text": [
      "True\n"
     ]
    }
   ],
   "source": [
    "class Solution:\n",
    "    def isNumber(self, s: str) -> bool:\n",
    "        \n",
    "        state = 0\n",
    "        acceptState = {3, 6, 7, 8, 10}\n",
    "        for char in s:\n",
    "            if state==0:\n",
    "                if char=='+' or char=='-':\n",
    "                    state = 1\n",
    "                elif char.isnumeric():\n",
    "                    state = 7\n",
    "                elif char=='.':\n",
    "                    state = 9\n",
    "                else:\n",
    "                    return False\n",
    "            elif state==1:\n",
    "                if char=='.':\n",
    "                    state = 2\n",
    "                elif char.isnumeric():\n",
    "                    state = 7\n",
    "                else:\n",
    "                    return False\n",
    "            elif state==2:\n",
    "                if char.isnumeric():\n",
    "                    state = 3\n",
    "                else:\n",
    "                    return False\n",
    "            elif state==3:\n",
    "                if char=='e' or char=='E':\n",
    "                    state = 4\n",
    "                elif char.isnumeric():\n",
    "                    state = 3\n",
    "                else:\n",
    "                    return False\n",
    "            elif state==4:\n",
    "                if char=='+' or char=='-':\n",
    "                    state = 5\n",
    "                elif char.isnumeric():\n",
    "                    state = 10\n",
    "                else:\n",
    "                    return False\n",
    "            elif state==5:\n",
    "                if char.isnumeric():\n",
    "                    state = 6\n",
    "                else:\n",
    "                    return False\n",
    "            elif state==6:\n",
    "                if char.isnumeric():\n",
    "                    state = 6\n",
    "                else:\n",
    "                    return False\n",
    "            elif state==7:\n",
    "                if char.isnumeric():\n",
    "                    state = 7\n",
    "                elif char=='.':\n",
    "                    state = 8\n",
    "                elif char=='e' or char=='E':\n",
    "                    state = 4\n",
    "                else:\n",
    "                    return False\n",
    "            elif state==8:\n",
    "                if char.isnumeric():\n",
    "                    state = 3\n",
    "                elif char=='e' or char=='E':\n",
    "                    state = 4\n",
    "                else:\n",
    "                    return False\n",
    "            elif state==9:\n",
    "                if char.isnumeric():\n",
    "                    state = 8\n",
    "                else:\n",
    "                    return False\n",
    "            elif state==10:\n",
    "                if char.isnumeric():\n",
    "                    state = 10\n",
    "                else:\n",
    "                    return False\n",
    "                \n",
    "        return state in acceptState\n",
    "\n",
    "    \n",
    "if __name__ == \"__main__\":\n",
    "    solver = Solution()\n",
    "    s = \".0e7\"\n",
    "    print(solver.isNumber(s))"
   ]
  },
  {
   "cell_type": "raw",
   "metadata": {},
   "source": [
    "c = \"a3\"\n",
    "c.isnumeric()"
   ]
  },
  {
   "cell_type": "code",
   "execution_count": null,
   "metadata": {},
   "outputs": [],
   "source": []
  }
 ],
 "metadata": {
  "kernelspec": {
   "display_name": "Python 3",
   "language": "python",
   "name": "python3"
  },
  "language_info": {
   "codemirror_mode": {
    "name": "ipython",
    "version": 3
   },
   "file_extension": ".py",
   "mimetype": "text/x-python",
   "name": "python",
   "nbconvert_exporter": "python",
   "pygments_lexer": "ipython3",
   "version": "3.8.5"
  }
 },
 "nbformat": 4,
 "nbformat_minor": 4
}
